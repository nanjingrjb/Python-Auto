{
 "cells": [
  {
   "cell_type": "code",
   "execution_count": 1,
   "id": "8cade3a7",
   "metadata": {},
   "outputs": [
    {
     "name": "stdout",
     "output_type": "stream",
     "text": [
      "\u001b[0;0mUntitled.ipynb\u001b[m                     \u001b[0;0mprepare_task_step2.py\u001b[m\r\n",
      "\u001b[0;0mconfig.ini\u001b[m                         \u001b[0;0mprepare_task_step5.py\u001b[m\r\n",
      "\u001b[0;0mconfig.yaml\u001b[m                        \u001b[0;0mprepare_task_yaml.py\u001b[m\r\n",
      "\u001b[0;0mcron.py\u001b[m                            \u001b[0;0mrequirements.txt\u001b[m\r\n",
      "\u001b[0;0memail_conf.ini\u001b[m                     \u001b[0;0mtask_with_error_handling_step1.py\u001b[m\r\n",
      "\u001b[0;0memail_task.py\u001b[m                      \u001b[0;0mtask_with_error_handling_step4.py\u001b[m\r\n",
      "\u001b[0;0mprepare_task_step1.py\u001b[m\r\n"
     ]
    }
   ],
   "source": [
    "ls\n"
   ]
  },
  {
   "cell_type": "code",
   "execution_count": 11,
   "id": "f1ef7c31",
   "metadata": {},
   "outputs": [
    {
     "name": "stderr",
     "output_type": "stream",
     "text": [
      "usage: ipykernel_launcher.py [-h] [-n1 N1] [-n2 N2]\n",
      "ipykernel_launcher.py: error: unrecognized arguments: -f /data/data/ru.iiec.pydroid3/app_HOME/.local/share/jupyter/runtime/kernel-1cc0992d-35ad-4b10-a32d-a5a65335a172.json\n"
     ]
    },
    {
     "ename": "SystemExit",
     "evalue": "2",
     "output_type": "error",
     "traceback": [
      "An exception has occurred, use %tb to see the full traceback.\n",
      "\u001b[0;31mSystemExit\u001b[0m\u001b[0;31m:\u001b[0m 2\n"
     ]
    }
   ],
   "source": [
    "# %load prepare_task_step2.py\n",
    "import argparse\n",
    "\n",
    "\n",
    "def main(number, other_number):\n",
    "    result = number * other_number\n",
    "    print(f'The result is {result}')\n",
    "\n",
    "\n",
    "if __name__ == '__main__':\n",
    "    parser = argparse.ArgumentParser()\n",
    "    parser.add_argument('-n1', type=int, help='A number', default=1)\n",
    "    parser.add_argument('-n2', type=int, help='Another number', default=1)\n",
    "\n",
    "    args = parser.parse_args()\n",
    "\n",
    "    main(args.n1, args.n2)\n"
   ]
  },
  {
   "cell_type": "code",
   "execution_count": 12,
   "id": "ba1b7a41",
   "metadata": {},
   "outputs": [
    {
     "name": "stdout",
     "output_type": "stream",
     "text": [
      "The result is 18\n"
     ]
    }
   ],
   "source": [
    "run prepare_task_step1.py -n1 3 -n2 6"
   ]
  },
  {
   "cell_type": "code",
   "execution_count": 13,
   "id": "47f7ba44",
   "metadata": {},
   "outputs": [
    {
     "name": "stderr",
     "output_type": "stream",
     "text": [
      "usage: ipykernel_launcher.py [-h] [-n1 N1] [-n2 N2] [--config CONFIG]\n",
      "ipykernel_launcher.py: error: unrecognized arguments: -f /data/data/ru.iiec.pydroid3/app_HOME/.local/share/jupyter/runtime/kernel-1cc0992d-35ad-4b10-a32d-a5a65335a172.json\n"
     ]
    },
    {
     "ename": "SystemExit",
     "evalue": "2",
     "output_type": "error",
     "traceback": [
      "An exception has occurred, use %tb to see the full traceback.\n",
      "\u001b[0;31mSystemExit\u001b[0m\u001b[0;31m:\u001b[0m 2\n"
     ]
    }
   ],
   "source": [
    "# %load prepare_task_step2.py\n",
    "import argparse\n",
    "import configparser\n",
    "\n",
    "\n",
    "def main(number, other_number):\n",
    "    result = number * other_number\n",
    "    print(f'The result is {result}')\n",
    "\n",
    "\n",
    "if __name__ == '__main__':\n",
    "    parser = argparse.ArgumentParser()\n",
    "    parser.add_argument('-n1', type=int, help='A number', default=1)\n",
    "    parser.add_argument('-n2', type=int, help='Another number', default=1)\n",
    "\n",
    "    parser.add_argument('--config', '-c', type=argparse.FileType('r'),\n",
    "                        help='config file')\n",
    "\n",
    "    args = parser.parse_args()\n",
    "    if args.config:\n",
    "        config = configparser.ConfigParser()\n",
    "        config.read_file(args.config)\n",
    "        # Transforming values into integers\n",
    "        args.n1 = int(config['ARGUMENTS']['n1'])\n",
    "        args.n2 = int(config['ARGUMENTS']['n2'])\n",
    "\n",
    "    main(args.n1, args.n2)\n"
   ]
  },
  {
   "cell_type": "code",
   "execution_count": 14,
   "id": "9297c15e",
   "metadata": {},
   "outputs": [
    {
     "name": "stdout",
     "output_type": "stream",
     "text": [
      "[ARGUMENTS]\r\n",
      "n1=5\r\n",
      "n2=7\r\n"
     ]
    }
   ],
   "source": [
    "cat config.ini"
   ]
  },
  {
   "cell_type": "code",
   "execution_count": 19,
   "id": "3962f0b1",
   "metadata": {},
   "outputs": [
    {
     "name": "stdout",
     "output_type": "stream",
     "text": [
      "The result is 35\n"
     ]
    }
   ],
   "source": [
    "run prepare_task_step2.py -c config.ini"
   ]
  },
  {
   "cell_type": "code",
   "execution_count": null,
   "id": "9593bdcb",
   "metadata": {},
   "outputs": [],
   "source": [
    "# %load prepare_task_step5.py\n",
    "import argparse\n",
    "import sys\n",
    "import configparser\n",
    "\n",
    "\n",
    "def main(number, other_number, output):\n",
    "    result = number * other_number\n",
    "    print(f'The result is {result}', file=output)\n",
    "\n",
    "\n",
    "if __name__ == '__main__':\n",
    "    parser = argparse.ArgumentParser()\n",
    "    parser.add_argument('-n1', type=int, help='A number', default=1)\n",
    "    parser.add_argument('-n2', type=int, help='Another number', default=1)\n",
    "\n",
    "    parser.add_argument('--config', '-c', type=argparse.FileType('r'),\n",
    "                        help='config file')\n",
    "    parser.add_argument('-o', dest='output', type=argparse.FileType('w'),\n",
    "                        help='output file',\n",
    "                        default=sys.stdout)\n",
    "\n",
    "    args = parser.parse_args()\n",
    "    if args.config:\n",
    "        config = configparser.ConfigParser()\n",
    "        config.read_file(args.config)\n",
    "        # Transforming values into integers\n",
    "        args.n1 = int(config['ARGUMENTS']['n1'])\n",
    "        args.n2 = int(config['ARGUMENTS']['n2'])\n",
    "\n",
    "    main(args.n1, args.n2, args.output)\n"
   ]
  },
  {
   "cell_type": "code",
   "execution_count": 27,
   "id": "8d78c05c",
   "metadata": {},
   "outputs": [],
   "source": [
    "run prepare_task_step5.py -c config.ini -o mul.txt"
   ]
  },
  {
   "cell_type": "code",
   "execution_count": 28,
   "id": "daf0e83e",
   "metadata": {},
   "outputs": [
    {
     "name": "stdout",
     "output_type": "stream",
     "text": [
      "The result is 35\r\n"
     ]
    }
   ],
   "source": [
    "cat mul.txt"
   ]
  }
 ],
 "metadata": {
  "kernelspec": {
   "display_name": "Python 3 (ipykernel)",
   "language": "python",
   "name": "python3"
  },
  "language_info": {
   "codemirror_mode": {
    "name": "ipython",
    "version": 3
   },
   "file_extension": ".py",
   "mimetype": "text/x-python",
   "name": "python",
   "nbconvert_exporter": "python",
   "pygments_lexer": "ipython3",
   "version": "3.9.7"
  }
 },
 "nbformat": 4,
 "nbformat_minor": 5
}
